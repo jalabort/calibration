{
 "cells": [
  {
   "cell_type": "code",
   "execution_count": 1,
   "metadata": {
    "extensions": {
     "jupyter_dashboards": {
      "version": 1,
      "views": {
       "grid_default": {
        "hidden": true
       },
       "report_default": {}
      }
     }
    }
   },
   "outputs": [],
   "source": [
    "import ipywidgets as widgets\n",
    "from IPython.display import display\n",
    "import numpy as np\n",
    "from homography import camera_parameters_to_homography"
   ]
  },
  {
   "cell_type": "code",
   "execution_count": 2,
   "metadata": {
    "extensions": {
     "jupyter_dashboards": {
      "version": 1,
      "views": {
       "grid_default": {
        "col": 0,
        "height": 22,
        "hidden": false,
        "row": 0,
        "width": 11
       },
       "report_default": {}
      }
     }
    }
   },
   "outputs": [
    {
     "data": {
      "application/vnd.jupyter.widget-view+json": {
       "model_id": "3ac21698b8e64baca3008881e38d1077",
       "version_major": 2,
       "version_minor": 0
      },
      "text/plain": [
       "interactive(children=(FloatSlider(value=1.0, description='fov x:', max=10.0, min=1.0), FloatSlider(value=0.0, …"
      ]
     },
     "metadata": {},
     "output_type": "display_data"
    }
   ],
   "source": [
    "imageCenter = (480, 270)\n",
    "def update_plot(fovX, x, y, z, tilt, pan, roll):    \n",
    "    print(camera_parameters_to_homography(fovX, x, y, z, tilt, pan, roll, imageCenter))\n",
    "\n",
    "\n",
    "fovX = widgets.FloatSlider(min=1, max=10, value=1, description='fov x:')\n",
    "x = widgets.FloatSlider(min=0, max=5, value=0, description='x:')\n",
    "y = widgets.FloatSlider(min=1, max=10, value=1, description='y:')\n",
    "z = widgets.FloatSlider(min=1, max=10, value=1, description='z:')\n",
    "tilt = widgets.FloatSlider(min=1, max=10, value=1, description='tilt:')\n",
    "pan = widgets.FloatSlider(min=1, max=10, value=1, description='pan:')\n",
    "roll = widgets.FloatSlider(min=1, max=10, value=1, description='roll:')\n",
    "    \n",
    "widgets.interactive(update_plot, fovX=fovX, x=x, y=y, z=z, tilt=tilt, pan=pan, roll=roll)"
   ]
  },
  {
   "cell_type": "code",
   "execution_count": null,
   "metadata": {
    "extensions": {
     "jupyter_dashboards": {
      "version": 1,
      "views": {
       "grid_default": {
        "hidden": true
       },
       "report_default": {}
      }
     }
    },
    "jupyter": {
     "outputs_hidden": true
    }
   },
   "outputs": [],
   "source": []
  },
  {
   "cell_type": "code",
   "execution_count": null,
   "metadata": {},
   "outputs": [],
   "source": []
  }
 ],
 "metadata": {
  "anaconda-cloud": {},
  "extensions": {
   "jupyter_dashboards": {
    "activeView": "grid_default",
    "version": 1,
    "views": {
     "grid_default": {
      "cellMargin": 10,
      "defaultCellHeight": 20,
      "maxColumns": 12,
      "name": "grid",
      "type": "grid"
     },
     "report_default": {
      "name": "report",
      "type": "report"
     }
    }
   }
  },
  "kernelspec": {
   "display_name": "Python 3",
   "language": "python",
   "name": "python3"
  },
  "language_info": {
   "codemirror_mode": {
    "name": "ipython",
    "version": 3
   },
   "file_extension": ".py",
   "mimetype": "text/x-python",
   "name": "python",
   "nbconvert_exporter": "python",
   "pygments_lexer": "ipython3",
   "version": "3.7.4"
  },
  "widgets": {
   "state": {
    "53bffc391ce743ad90da0b2b7dc1981d": {
     "views": [
      {
       "cell_index": 2
      }
     ]
    },
    "f2cce768a44049318fdaeb04fdfaa5ab": {
     "views": [
      {
       "cell_index": 1
      }
     ]
    }
   },
   "version": "1.2.0"
  }
 },
 "nbformat": 4,
 "nbformat_minor": 4
}
