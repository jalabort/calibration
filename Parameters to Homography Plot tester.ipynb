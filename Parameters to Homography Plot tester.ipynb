{
 "cells": [
  {
   "cell_type": "code",
   "execution_count": 1,
   "metadata": {
    "extensions": {
     "jupyter_dashboards": {
      "version": 1,
      "views": {
       "grid_default": {
        "hidden": true
       },
       "report_default": {}
      }
     }
    }
   },
   "outputs": [],
   "source": [
    "import ipywidgets as widgets\n",
    "from IPython.display import display\n",
    "import numpy as np\n",
    "from matplotlib import pyplot as plt\n",
    "\n",
    "from homography import camera_parameters_to_homography\n",
    "from sportsField import SportsField"
   ]
  },
  {
   "cell_type": "code",
   "execution_count": 2,
   "metadata": {
    "extensions": {
     "jupyter_dashboards": {
      "version": 1,
      "views": {
       "grid_default": {
        "col": 0,
        "height": 22,
        "hidden": false,
        "row": 0,
        "width": 11
       },
       "report_default": {}
      }
     }
    },
    "scrolled": false
   },
   "outputs": [
    {
     "data": {
      "application/vnd.jupyter.widget-view+json": {
       "model_id": "25653dfffbda41aa9ec3959c4c6432d1",
       "version_major": 2,
       "version_minor": 0
      },
      "text/plain": [
       "interactive(children=(FloatSlider(value=45.0, description='fov x:', max=180.0, min=1.0), FloatSlider(value=0.0…"
      ]
     },
     "metadata": {},
     "output_type": "display_data"
    }
   ],
   "source": [
    "image_size = (960, 540)\n",
    "image_center = (480, 270)\n",
    "\n",
    "field = SportsField(\"footballFieldModel.json\")\n",
    "\n",
    "def update_plot(fovX, x, y, z, tilt, pan, roll):    \n",
    "    homography = camera_parameters_to_homography(fovX, x, y, z, tilt, pan, roll, image_center)\n",
    "    print(homography)\n",
    "    \n",
    "    img = field.project_to_image(homography, image_size)\n",
    "    plt.imshow(img)\n",
    "\n",
    "\n",
    "fovX = widgets.FloatSlider(min=1, max=180, value=45, description='fov x:')\n",
    "x = widgets.FloatSlider(min=-70, max=70, value=0, description='x:')\n",
    "y = widgets.FloatSlider(min=-140, max=-20, value=-60, description='y:')\n",
    "z = widgets.FloatSlider(min=5, max=50, value=18, description='z:')\n",
    "tilt = widgets.FloatSlider(min=-80, max=20, value=-15, description='tilt:')\n",
    "pan = widgets.FloatSlider(min=-120, max=120, value=0, description='pan:')\n",
    "roll = widgets.FloatSlider(min=-10, max=10, value=0, description='roll:')\n",
    "    \n",
    "widgets.interactive(update_plot, fovX=fovX, x=x, y=y, z=z, tilt=tilt, pan=pan, roll=roll)"
   ]
  },
  {
   "cell_type": "code",
   "execution_count": null,
   "metadata": {
    "extensions": {
     "jupyter_dashboards": {
      "version": 1,
      "views": {
       "grid_default": {
        "hidden": true
       },
       "report_default": {}
      }
     }
    },
    "jupyter": {
     "outputs_hidden": true
    }
   },
   "outputs": [],
   "source": [
    "type(field.lines['leftLine'][0][0])"
   ]
  },
  {
   "cell_type": "code",
   "execution_count": null,
   "metadata": {},
   "outputs": [],
   "source": []
  }
 ],
 "metadata": {
  "anaconda-cloud": {},
  "extensions": {
   "jupyter_dashboards": {
    "activeView": "grid_default",
    "version": 1,
    "views": {
     "grid_default": {
      "cellMargin": 10,
      "defaultCellHeight": 20,
      "maxColumns": 12,
      "name": "grid",
      "type": "grid"
     },
     "report_default": {
      "name": "report",
      "type": "report"
     }
    }
   }
  },
  "kernelspec": {
   "display_name": "Python 3",
   "language": "python",
   "name": "python3"
  },
  "language_info": {
   "codemirror_mode": {
    "name": "ipython",
    "version": 3
   },
   "file_extension": ".py",
   "mimetype": "text/x-python",
   "name": "python",
   "nbconvert_exporter": "python",
   "pygments_lexer": "ipython3",
   "version": "3.7.4"
  },
  "widgets": {
   "state": {
    "53bffc391ce743ad90da0b2b7dc1981d": {
     "views": [
      {
       "cell_index": 2
      }
     ]
    },
    "f2cce768a44049318fdaeb04fdfaa5ab": {
     "views": [
      {
       "cell_index": 1
      }
     ]
    }
   },
   "version": "1.2.0"
  }
 },
 "nbformat": 4,
 "nbformat_minor": 4
}
