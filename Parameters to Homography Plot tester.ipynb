{
 "cells": [
  {
   "cell_type": "code",
   "execution_count": 1,
   "metadata": {
    "extensions": {
     "jupyter_dashboards": {
      "version": 1,
      "views": {
       "grid_default": {
        "hidden": true
       },
       "report_default": {}
      }
     }
    }
   },
   "outputs": [],
   "source": [
    "import ipywidgets as widgets\n",
    "from IPython.display import display\n",
    "import numpy as np\n",
    "from matplotlib import pyplot as plt\n",
    "\n",
    "from homography import camera_parameters_to_homography\n",
    "from sportsField import SportsField"
   ]
  },
  {
   "cell_type": "code",
   "execution_count": 11,
   "metadata": {
    "extensions": {
     "jupyter_dashboards": {
      "version": 1,
      "views": {
       "grid_default": {
        "col": 0,
        "height": 22,
        "hidden": false,
        "row": 0,
        "width": 11
       },
       "report_default": {}
      }
     }
    },
    "scrolled": false
   },
   "outputs": [
    {
     "data": {
      "application/vnd.jupyter.widget-view+json": {
       "model_id": "6b79e77b936945e3b9aaade2a4c93598",
       "version_major": 2,
       "version_minor": 0
      },
      "text/plain": [
       "interactive(children=(FloatSlider(value=45.0, continuous_update=False, description='fov x:', max=180.0, min=1.…"
      ]
     },
     "metadata": {},
     "output_type": "display_data"
    },
    {
     "data": {
      "text/plain": [
       "<Figure size 432x288 with 0 Axes>"
      ]
     },
     "metadata": {},
     "output_type": "display_data"
    }
   ],
   "source": [
    "image_size = (960, 540)\n",
    "image_center = (480, 270)\n",
    "\n",
    "field = SportsField(\"footballFieldModel.json\")\n",
    "\n",
    "plt.figure()\n",
    "\n",
    "def update_plot(fovX, x, y, z, tilt, pan, roll):    \n",
    "    homography = camera_parameters_to_homography(fovX, x, y, z, tilt, pan, roll, image_center)\n",
    "    print(homography)\n",
    "    \n",
    "    img = field.project_to_image(homography, image_size)\n",
    "    plt.imshow(img) \n",
    "    plt.show()\n",
    "\n",
    "fovX = widgets.FloatSlider(min=1, max=180, value=45, description='fov x:', continuous_update=False)\n",
    "x = widgets.FloatSlider(min=-70, max=70, value=0, description='x:', continuous_update=False)\n",
    "y = widgets.FloatSlider(min=-140, max=-20, value=-60, description='y:', continuous_update=False)\n",
    "z = widgets.FloatSlider(min=5, max=50, value=18, description='z:', continuous_update=False)\n",
    "tilt = widgets.FloatSlider(min=-80, max=20, value=-15, description='tilt:', continuous_update=False)\n",
    "pan = widgets.FloatSlider(min=-120, max=120, value=0, description='pan:', continuous_update=False)\n",
    "roll = widgets.FloatSlider(min=-10, max=10, value=0, description='roll:', continuous_update=False)\n",
    "    \n",
    "widgets.interactive(update_plot, fovX=fovX, x=x, y=y, z=z, tilt=tilt, pan=pan, roll=roll)"
   ]
  },
  {
   "cell_type": "code",
   "execution_count": null,
   "metadata": {
    "extensions": {
     "jupyter_dashboards": {
      "version": 1,
      "views": {
       "grid_default": {
        "hidden": true
       },
       "report_default": {}
      }
     }
    },
    "jupyter": {
     "outputs_hidden": true
    }
   },
   "outputs": [],
   "source": []
  },
  {
   "cell_type": "code",
   "execution_count": null,
   "metadata": {},
   "outputs": [],
   "source": []
  }
 ],
 "metadata": {
  "anaconda-cloud": {},
  "extensions": {
   "jupyter_dashboards": {
    "activeView": "grid_default",
    "version": 1,
    "views": {
     "grid_default": {
      "cellMargin": 10,
      "defaultCellHeight": 20,
      "maxColumns": 12,
      "name": "grid",
      "type": "grid"
     },
     "report_default": {
      "name": "report",
      "type": "report"
     }
    }
   }
  },
  "kernelspec": {
   "display_name": "Python 3",
   "language": "python",
   "name": "python3"
  },
  "language_info": {
   "codemirror_mode": {
    "name": "ipython",
    "version": 3
   },
   "file_extension": ".py",
   "mimetype": "text/x-python",
   "name": "python",
   "nbconvert_exporter": "python",
   "pygments_lexer": "ipython3",
   "version": "3.7.4"
  },
  "widgets": {
   "state": {
    "53bffc391ce743ad90da0b2b7dc1981d": {
     "views": [
      {
       "cell_index": 2
      }
     ]
    },
    "f2cce768a44049318fdaeb04fdfaa5ab": {
     "views": [
      {
       "cell_index": 1
      }
     ]
    }
   },
   "version": "1.2.0"
  }
 },
 "nbformat": 4,
 "nbformat_minor": 4
}
